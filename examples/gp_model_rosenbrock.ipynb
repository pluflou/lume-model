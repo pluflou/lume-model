{
 "cells": [
  {
   "cell_type": "markdown",
   "id": "9be71ad8-0603-4f92-b946-a6be8a0e07b3",
   "metadata": {},
   "source": [
    "# A 3D Rosenbrock example for GPModel class"
   ]
  },
  {
   "cell_type": "code",
   "execution_count": 1,
   "id": "0bf3265d",
   "metadata": {},
   "outputs": [],
   "source": [
    "import torch\n",
    "import logging\n",
    "import os\n",
    "from botorch.models import SingleTaskGP\n",
    "from botorch.fit import fit_gpytorch_model\n",
    "from gpytorch.mlls import ExactMarginalLogLikelihood\n",
    "from lume_model.models import TorchModel\n",
    "from lume_model.variables import ScalarVariable, DistributionVariable\n",
    "from lume_model.models.gp_model import GPModel"
   ]
  },
  {
   "cell_type": "markdown",
   "id": "2487ef12-ca3a-42b6-8e13-0a0ecbe48089",
   "metadata": {},
   "source": [
    "## Create and train a GP"
   ]
  },
  {
   "cell_type": "code",
   "execution_count": 2,
   "id": "8e1caf84-00be-414d-a9b6-9d4f846290e9",
   "metadata": {},
   "outputs": [],
   "source": [
    "# Define the 3D Rosenbrock function\n",
    "def rosenbrock(X):\n",
    "    x1, x2, x3 = X[..., 0], X[..., 1], X[..., 2]\n",
    "    return (1 - x1)**2 + 100 * (x2 - x1**2)**2 + (1 - x2)**2 + 100 * (x3 - x2**2)**2"
   ]
  },
  {
   "cell_type": "code",
   "execution_count": 3,
   "id": "e9ed72c5-3256-4b17-9713-54d2eb46dac9",
   "metadata": {},
   "outputs": [
    {
     "name": "stderr",
     "output_type": "stream",
     "text": [
      "/opt/miniconda3/envs/lume-latest-310/lib/python3.10/site-packages/botorch/models/utils/assorted.py:174: InputDataWarning: Input data is not contained to the unit cube. Please consider min-max scaling the input data.\n",
      "  warnings.warn(msg, InputDataWarning)\n",
      "/opt/miniconda3/envs/lume-latest-310/lib/python3.10/site-packages/botorch/models/utils/assorted.py:202: InputDataWarning: Input data is not standardized (mean = tensor([868.5472], dtype=torch.float64), std = tensor([883.1459], dtype=torch.float64)). Please consider scaling the input to zero mean and unit variance.\n",
      "  warnings.warn(msg, InputDataWarning)\n"
     ]
    },
    {
     "name": "stdout",
     "output_type": "stream",
     "text": [
      "Posterior mean:  tensor([[744.3052],\n",
      "        [744.5992],\n",
      "        [744.9520],\n",
      "        [744.3029],\n",
      "        [744.0606],\n",
      "        [744.2716],\n",
      "        [744.2654],\n",
      "        [744.3010],\n",
      "        [744.3029],\n",
      "        [744.3132]], dtype=torch.float64, grad_fn=<UnsqueezeBackward0>)\n",
      "Posterior variance:  tensor([[74.7112],\n",
      "        [74.7111],\n",
      "        [74.7099],\n",
      "        [74.7112],\n",
      "        [74.7099],\n",
      "        [74.7112],\n",
      "        [74.7112],\n",
      "        [74.7112],\n",
      "        [74.7112],\n",
      "        [74.7112]], dtype=torch.float64, grad_fn=<UnsqueezeBackward0>)\n"
     ]
    }
   ],
   "source": [
    "# Generate training data\n",
    "train_x = torch.rand(20, 3) * 4 - 2  # 20 points in 3D space, scaled to [-2, 2]\n",
    "train_y = rosenbrock(train_x).unsqueeze(-1)  # Compute the Rosenbrock function values\n",
    "\n",
    "# Define the GP model\n",
    "gp_model = SingleTaskGP(train_x.to(dtype=torch.double), train_y.to(dtype=torch.double))\n",
    "\n",
    "# Fit the model\n",
    "mll = ExactMarginalLogLikelihood(gp_model.likelihood, gp_model)\n",
    "fit_gpytorch_model(mll)\n",
    "\n",
    "# Evaluate the model on test data\n",
    "test_x = torch.rand(10, 3) * 4 - 2  # 10 new points in 3D space\n",
    "gp_model.eval()\n",
    "posterior = gp_model.posterior(test_x)\n",
    "\n",
    "# Get the mean and variance of the posterior\n",
    "mean = posterior.mean\n",
    "variance = posterior.variance\n",
    "\n",
    "print(\"Posterior mean: \", mean)\n",
    "print(\"Posterior variance: \", variance)"
   ]
  },
  {
   "cell_type": "markdown",
   "id": "8a37f08f-9b27-47e0-9fe6-f3d684565668",
   "metadata": {},
   "source": [
    "## LUME-Model import"
   ]
  },
  {
   "cell_type": "code",
   "execution_count": 4,
   "id": "d256cedf",
   "metadata": {},
   "outputs": [],
   "source": [
    "# Define input variables\n",
    "input_variables = [ScalarVariable(name=\"x1\"), ScalarVariable(name=\"x2\"), ScalarVariable(name=\"x3\")]\n",
    "\n",
    "# Define output variables\n",
    "# Currently the \"distribution_type\" field doesn't do anything\n",
    "output_variables = [DistributionVariable(name=\"output1\", distribution_type=\"MultiVariateNormal\")]\n",
    "\n",
    "# Create lume_model instance\n",
    "gp_lume_model = GPModel(model=gp_model, input_variables=input_variables, output_variables=output_variables)"
   ]
  },
  {
   "cell_type": "markdown",
   "id": "70b5e55c-580b-4e37-91de-aeac60de0a27",
   "metadata": {},
   "source": [
    "#### Evaluate model and run methods"
   ]
  },
  {
   "cell_type": "code",
   "execution_count": 5,
   "id": "d8e61307-8ff8-45ea-8ea1-d2a846e3beaa",
   "metadata": {},
   "outputs": [],
   "source": [
    "input_x = torch.rand(3, 3) * 4 - 2  # 3 new points in 3D space\n",
    "input_dict = {\"x1\": input_x[:,0].to(dtype=torch.double),\n",
    "              \"x2\": input_x[:,1].to(dtype=torch.double),\n",
    "              \"x3\": input_x[:,2].to(dtype=torch.double)\n",
    "             }"
   ]
  },
  {
   "cell_type": "code",
   "execution_count": 6,
   "id": "eb69c88b-a94d-4c0b-bee8-2ae0b40a3577",
   "metadata": {},
   "outputs": [],
   "source": [
    "# Evaluate function returns a torch.distributions.Distribution\n",
    "lume_dist = gp_lume_model.evaluate(input_dict)[\"output1\"]"
   ]
  },
  {
   "cell_type": "code",
   "execution_count": 7,
   "id": "424760a2-2626-4c60-a7db-9baaf1b60084",
   "metadata": {},
   "outputs": [],
   "source": [
    "torch.manual_seed(0);\n",
    "rand_test = torch.rand(1, 3)"
   ]
  },
  {
   "cell_type": "code",
   "execution_count": 8,
   "id": "f9c4f8d8-da8e-44d2-b18c-53fb6f75897a",
   "metadata": {},
   "outputs": [
    {
     "name": "stdout",
     "output_type": "stream",
     "text": [
      "Posterior mean: tensor([744.3032, 744.4946, 744.5623], dtype=torch.float64,\n",
      "       grad_fn=<ViewBackward0>)\n",
      "Posterior Variance  tensor([74.7112, 74.7111, 74.7073], dtype=torch.float64,\n",
      "       grad_fn=<ExpandBackward0>)\n",
      "Log Likelihood tensor([-11123.0036], dtype=torch.float64, grad_fn=<SubBackward0>)\n",
      "Rsample  tensor([[747.4524, 747.1375, 749.7789],\n",
      "        [745.4649, 746.3096, 751.5718],\n",
      "        [745.7226, 752.3225, 744.1726]], dtype=torch.float64,\n",
      "       grad_fn=<ViewBackward0>)\n"
     ]
    }
   ],
   "source": [
    "print(\"Posterior mean:\", lume_dist.mean)\n",
    "print(\"Posterior Variance \", lume_dist.variance)\n",
    "print(\"Log Likelihood\", lume_dist.log_prob(rand_test))\n",
    "print(\"Rsample \", lume_dist.rsample(torch.Size([3])))"
   ]
  },
  {
   "cell_type": "markdown",
   "id": "42a68f01-06c8-45f6-a4b6-512b9ecd3e07",
   "metadata": {},
   "source": [
    "### Outputs with original model"
   ]
  },
  {
   "cell_type": "code",
   "execution_count": 9,
   "id": "fd60e0f6-9e0e-47e0-8fa5-82b97778375b",
   "metadata": {},
   "outputs": [],
   "source": [
    "posterior = gp_model.posterior(input_x)\n",
    "botorch_dist = posterior.distribution"
   ]
  },
  {
   "cell_type": "code",
   "execution_count": 10,
   "id": "1d0254a6-6059-420c-9184-ca8bc4b464d2",
   "metadata": {},
   "outputs": [
    {
     "name": "stdout",
     "output_type": "stream",
     "text": [
      "Posterior mean: tensor([744.3032, 744.4946, 744.5623], dtype=torch.float64,\n",
      "       grad_fn=<ViewBackward0>)\n",
      "Posterior Variance  tensor([74.7112, 74.7111, 74.7073], dtype=torch.float64,\n",
      "       grad_fn=<ExpandBackward0>)\n",
      "Log Likelihood tensor([-11123.0036], dtype=torch.float64, grad_fn=<SubBackward0>)\n",
      "Rsample  tensor([[751.9069, 738.2463, 745.9490],\n",
      "        [753.3635, 769.2700, 744.3432],\n",
      "        [743.9186, 739.6066, 753.8443]], dtype=torch.float64,\n",
      "       grad_fn=<ViewBackward0>)\n"
     ]
    }
   ],
   "source": [
    "print(\"Posterior mean:\", botorch_dist.mean)\n",
    "print(\"Posterior Variance \", botorch_dist.variance)\n",
    "print(\"Log Likelihood\", botorch_dist.log_prob(rand_test))\n",
    "print(\"Rsample \", botorch_dist.rsample(torch.Size([3])))"
   ]
  },
  {
   "cell_type": "code",
   "execution_count": null,
   "id": "8d11fff3-1ae7-48c0-b515-95a973eecafe",
   "metadata": {},
   "outputs": [],
   "source": []
  }
 ],
 "metadata": {
  "kernelspec": {
   "display_name": "Python 3 (ipykernel)",
   "language": "python",
   "name": "python3"
  },
  "language_info": {
   "codemirror_mode": {
    "name": "ipython",
    "version": 3
   },
   "file_extension": ".py",
   "mimetype": "text/x-python",
   "name": "python",
   "nbconvert_exporter": "python",
   "pygments_lexer": "ipython3",
   "version": "3.10.16"
  }
 },
 "nbformat": 4,
 "nbformat_minor": 5
}
